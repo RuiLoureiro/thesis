{
 "cells": [
  {
   "cell_type": "code",
   "execution_count": null,
   "id": "a8087ea2",
   "metadata": {
    "ExecuteTime": {
     "end_time": "2021-05-05T21:16:51.294134Z",
     "start_time": "2021-05-05T21:16:31.162473Z"
    }
   },
   "outputs": [],
   "source": [
    "import datetime\n",
    "from thesis.odx.combine_afc import get_combined_afc\n",
    "\n",
    "afc = get_combined_afc(\n",
    "    start_date=datetime.date(2019, 10, 7),\n",
    "    end_date=datetime.date(2019, 10, 7),\n",
    "    start_time=datetime.time(10,0,0),\n",
    "    end_time=datetime.time(10,30,0)\n",
    ")"
   ]
  },
  {
   "cell_type": "code",
   "execution_count": null,
   "id": "d960544e",
   "metadata": {
    "ExecuteTime": {
     "end_time": "2021-05-05T21:16:54.700437Z",
     "start_time": "2021-05-05T21:16:51.297583Z"
    }
   },
   "outputs": [],
   "source": [
    "from thesis.odx.odx import ODX\n",
    "odx = ODX()"
   ]
  },
  {
   "cell_type": "markdown",
   "id": "38d603b9",
   "metadata": {},
   "source": [
    "# Get stages"
   ]
  },
  {
   "cell_type": "code",
   "execution_count": null,
   "id": "7da2ccb9",
   "metadata": {
    "ExecuteTime": {
     "end_time": "2021-05-05T21:17:06.051714Z",
     "start_time": "2021-05-05T21:17:05.721452Z"
    }
   },
   "outputs": [],
   "source": [
    "stages = odx.get_stages(afc)"
   ]
  },
  {
   "cell_type": "markdown",
   "id": "b3040847",
   "metadata": {},
   "source": [
    "# Infer destinations"
   ]
  },
  {
   "cell_type": "code",
   "execution_count": null,
   "id": "c93b8074",
   "metadata": {
    "ExecuteTime": {
     "end_time": "2021-05-05T21:17:19.375030Z",
     "start_time": "2021-05-05T21:17:19.329269Z"
    }
   },
   "outputs": [],
   "source": [
    "stages = odx.infer_destinations(stages)"
   ]
  },
  {
   "cell_type": "code",
   "execution_count": null,
   "id": "d60a48d5",
   "metadata": {
    "ExecuteTime": {
     "end_time": "2021-05-05T21:22:26.639547Z",
     "start_time": "2021-05-05T21:22:26.635831Z"
    }
   },
   "outputs": [],
   "source": [
    "from thesis.odx.journey_builder import JourneyBuilder, journeys_to_bus_odx"
   ]
  },
  {
   "cell_type": "code",
   "execution_count": null,
   "id": "07c12bd3",
   "metadata": {
    "ExecuteTime": {
     "end_time": "2021-05-05T21:17:32.812023Z",
     "start_time": "2021-05-05T21:17:32.808272Z"
    }
   },
   "outputs": [],
   "source": [
    "j = JourneyBuilder()"
   ]
  },
  {
   "cell_type": "code",
   "execution_count": null,
   "id": "eb219c15",
   "metadata": {
    "ExecuteTime": {
     "end_time": "2021-05-05T21:17:43.420233Z",
     "start_time": "2021-05-05T21:17:43.383605Z"
    }
   },
   "outputs": [],
   "source": [
    "journeys, report= j.get_journeys(stages)"
   ]
  },
  {
   "cell_type": "code",
   "execution_count": null,
   "id": "d69919cd",
   "metadata": {
    "ExecuteTime": {
     "end_time": "2021-05-05T21:18:06.562100Z",
     "start_time": "2021-05-05T21:18:06.555553Z"
    }
   },
   "outputs": [],
   "source": [
    "journeys[2016281663][datetime.date(2019, 10, 7)]"
   ]
  },
  {
   "cell_type": "code",
   "execution_count": null,
   "id": "464a024d",
   "metadata": {
    "ExecuteTime": {
     "end_time": "2021-05-05T21:22:30.729702Z",
     "start_time": "2021-05-05T21:22:30.597726Z"
    }
   },
   "outputs": [],
   "source": [
    "odx = journeys_to_bus_odx(journeys)"
   ]
  },
  {
   "cell_type": "code",
   "execution_count": null,
   "id": "00063571",
   "metadata": {
    "ExecuteTime": {
     "end_time": "2021-05-05T21:22:32.395766Z",
     "start_time": "2021-05-05T21:22:32.384937Z"
    }
   },
   "outputs": [],
   "source": [
    "odx"
   ]
  },
  {
   "cell_type": "code",
   "execution_count": null,
   "id": "c748ed95",
   "metadata": {},
   "outputs": [],
   "source": []
  }
 ],
 "metadata": {
  "kernelspec": {
   "display_name": "Python 3",
   "language": "python",
   "name": "python3"
  },
  "language_info": {
   "codemirror_mode": {
    "name": "ipython",
    "version": 3
   },
   "file_extension": ".py",
   "mimetype": "text/x-python",
   "name": "python",
   "nbconvert_exporter": "python",
   "pygments_lexer": "ipython3",
   "version": "3.9.1"
  }
 },
 "nbformat": 4,
 "nbformat_minor": 5
}
