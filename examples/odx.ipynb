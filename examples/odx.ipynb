{
 "cells": [
  {
   "cell_type": "code",
   "execution_count": 2,
   "id": "a8087ea2",
   "metadata": {
    "ExecuteTime": {
     "end_time": "2021-04-20T18:32:27.003901Z",
     "start_time": "2021-04-20T18:32:07.902599Z"
    }
   },
   "outputs": [
    {
     "name": "stdout",
     "output_type": "stream",
     "text": [
      "Loading bus AFC from /Users/ruiloureiro/tese/data/processed/afc_carris_10_2019.feather\n",
      "Loading metro AFC from /Users/ruiloureiro/tese/data/processed/afc_metro_10_2019.feather\n",
      "Concating and sorting 2 AFC dataframes..\n",
      "Filtering AFC for rows between 2019-10-07 and 2019-10-07\n"
     ]
    }
   ],
   "source": [
    "import datetime\n",
    "from thesis.odx.combine_afc import get_combined_afc\n",
    "\n",
    "afc = get_combined_afc(\n",
    "    start_date=datetime.date(2019, 10, 7),\n",
    "    end_date=datetime.date(2019, 10, 7),\n",
    "    start_time=datetime.time(10,0,0),\n",
    "    end_time=datetime.time(10,30,0)\n",
    ")"
   ]
  },
  {
   "cell_type": "code",
   "execution_count": 3,
   "id": "d960544e",
   "metadata": {
    "ExecuteTime": {
     "end_time": "2021-04-20T18:32:30.417534Z",
     "start_time": "2021-04-20T18:32:30.317687Z"
    }
   },
   "outputs": [],
   "source": [
    "from thesis.odx.odx import ODX\n",
    "odx = ODX()"
   ]
  },
  {
   "cell_type": "markdown",
   "id": "38d603b9",
   "metadata": {},
   "source": [
    "# Get stages"
   ]
  },
  {
   "cell_type": "code",
   "execution_count": 5,
   "id": "7da2ccb9",
   "metadata": {
    "ExecuteTime": {
     "end_time": "2021-04-20T18:32:34.098304Z",
     "start_time": "2021-04-20T18:32:33.785418Z"
    }
   },
   "outputs": [
    {
     "data": {
      "text/html": [
       "<pre style=\"white-space:pre;overflow-x:auto;line-height:normal;font-family:Menlo,'DejaVu Sans Mono',consolas,'Courier New',monospace\">Splitting dataframe by card id and date..\n",
       "</pre>\n"
      ],
      "text/plain": [
       "Splitting dataframe by card id and date..\n"
      ]
     },
     "metadata": {},
     "output_type": "display_data"
    },
    {
     "data": {
      "application/vnd.jupyter.widget-view+json": {
       "model_id": "159e81776e654ce2a136875974a08adc",
       "version_major": 2,
       "version_minor": 0
      },
      "text/plain": [
       "  0%|          | 0/37241 [00:00<?, ?it/s]"
      ]
     },
     "metadata": {},
     "output_type": "display_data"
    },
    {
     "data": {
      "text/html": [
       "<pre style=\"white-space:pre;overflow-x:auto;line-height:normal;font-family:Menlo,'DejaVu Sans Mono',consolas,'Courier New',monospace\">Processing <span style=\"color: #008080; text-decoration-color: #008080; font-weight: bold\">22626</span> transactions.., between <span style=\"color: #008080; text-decoration-color: #008080; font-weight: bold\">2019</span>-<span style=\"color: #008080; text-decoration-color: #008080; font-weight: bold\">10</span>-<span style=\"color: #008080; text-decoration-color: #008080; font-weight: bold\">07</span> <span style=\"color: #00ff00; text-decoration-color: #00ff00; font-weight: bold\">10:00:00</span> and <span style=\"color: #008080; text-decoration-color: #008080; font-weight: bold\">2019</span>-<span style=\"color: #008080; text-decoration-color: #008080; font-weight: bold\">10</span>-<span style=\"color: #008080; text-decoration-color: #008080; font-weight: bold\">07</span> <span style=\"color: #00ff00; text-decoration-color: #00ff00; font-weight: bold\">10:30:00</span>..\n",
       "</pre>\n"
      ],
      "text/plain": [
       "Processing \u001b[1;36m22626\u001b[0m transactions.., between \u001b[1;36m2019\u001b[0m-\u001b[1;36m10\u001b[0m-\u001b[1;36m07\u001b[0m \u001b[1;92m10:00:00\u001b[0m and \u001b[1;36m2019\u001b[0m-\u001b[1;36m10\u001b[0m-\u001b[1;36m07\u001b[0m \u001b[1;92m10:30:00\u001b[0m..\n"
      ]
     },
     "metadata": {},
     "output_type": "display_data"
    },
    {
     "data": {
      "application/vnd.jupyter.widget-view+json": {
       "model_id": "a22abd1c200041a7afd6bcc6ab7dab16",
       "version_major": 2,
       "version_minor": 0
      },
      "text/plain": [
       "  0%|          | 0/22626 [00:00<?, ?it/s]"
      ]
     },
     "metadata": {},
     "output_type": "display_data"
    },
    {
     "data": {
      "text/html": [
       "<pre style=\"white-space:pre;overflow-x:auto;line-height:normal;font-family:Menlo,'DejaVu Sans Mono',consolas,'Courier New',monospace\">Converting to simple dict from defaultdict..\n",
       "</pre>\n"
      ],
      "text/plain": [
       "Converting to simple dict from defaultdict..\n"
      ]
     },
     "metadata": {},
     "output_type": "display_data"
    }
   ],
   "source": [
    "stages = odx.get_stages(afc)"
   ]
  },
  {
   "cell_type": "markdown",
   "id": "b3040847",
   "metadata": {},
   "source": [
    "# Infer destinations"
   ]
  },
  {
   "cell_type": "code",
   "execution_count": 6,
   "id": "c93b8074",
   "metadata": {
    "ExecuteTime": {
     "end_time": "2021-04-20T18:32:34.130799Z",
     "start_time": "2021-04-20T18:32:34.099968Z"
    }
   },
   "outputs": [
    {
     "data": {
      "application/vnd.jupyter.widget-view+json": {
       "model_id": "878ac6c11d72412ba8f676f5def5d6a0",
       "version_major": 2,
       "version_minor": 0
      },
      "text/plain": [
       "  0%|          | 0/4642 [00:00<?, ?it/s]"
      ]
     },
     "metadata": {},
     "output_type": "display_data"
    }
   ],
   "source": [
    "stages = odx.infer_destinations(stages)"
   ]
  },
  {
   "cell_type": "code",
   "execution_count": 8,
   "id": "a23c249d",
   "metadata": {
    "ExecuteTime": {
     "end_time": "2021-04-20T18:33:47.912024Z",
     "start_time": "2021-04-20T18:33:47.906289Z"
    }
   },
   "outputs": [
    {
     "data": {
      "text/plain": [
       "4642"
      ]
     },
     "execution_count": 8,
     "metadata": {},
     "output_type": "execute_result"
    }
   ],
   "source": [
    "len(stages)"
   ]
  },
  {
   "cell_type": "code",
   "execution_count": null,
   "id": "d60a48d5",
   "metadata": {},
   "outputs": [],
   "source": []
  }
 ],
 "metadata": {
  "kernelspec": {
   "display_name": "Python 3",
   "language": "python",
   "name": "python3"
  },
  "language_info": {
   "codemirror_mode": {
    "name": "ipython",
    "version": 3
   },
   "file_extension": ".py",
   "mimetype": "text/x-python",
   "name": "python",
   "nbconvert_exporter": "python",
   "pygments_lexer": "ipython3",
   "version": "3.9.1"
  }
 },
 "nbformat": 4,
 "nbformat_minor": 5
}
